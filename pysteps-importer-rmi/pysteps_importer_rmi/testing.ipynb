{
 "cells": [
  {
   "cell_type": "code",
   "id": "initial_id",
   "metadata": {
    "collapsed": true,
    "ExecuteTime": {
     "end_time": "2024-07-17T15:17:54.504762Z",
     "start_time": "2024-07-17T15:17:49.592956Z"
    }
   },
   "source": "from ptype_functions import *",
   "outputs": [
    {
     "name": "stdout",
     "output_type": "stream",
     "text": [
      "Pysteps configuration file found at: C:\\Users\\josep\\anaconda3\\Lib\\site-packages\\pysteps\\pystepsrc\n",
      "\n"
     ]
    }
   ],
   "execution_count": 1
  },
  {
   "metadata": {
    "ExecuteTime": {
     "end_time": "2024-07-17T15:17:56.199805Z",
     "start_time": "2024-07-17T15:17:56.187051Z"
    }
   },
   "cell_type": "code",
   "source": [
    "# NetCDF4 file\n",
    "filename = \"C:\\\\Users\\\\josep\\\\OneDrive\\\\Documents\\\\Internship_RMI\\\\Hackathon_test_data\\\\blended_nowcast_date_shifted.nc\"\n",
    "# Start date and time of the data\n",
    "startdate = datetime.datetime.strptime('202201080000', \"%Y%m%d%H%M\")\n",
    "# Path to the directory where the INCA data files are stored\n",
    "gribPath = \"C:\\\\Users\\\\josep\\\\OneDrive\\\\Documents\\\\Internship_RMI\\\\Hackathon_test_data\"\n",
    "# INCA topography file path\n",
    "topo = \"C:\\\\Users\\\\josep\\\\OneDrive\\\\Documents\\\\Internship_RMI\\\\Hackathon_test_data\\\\inca_dem.asc\"\n",
    "# The directory in which the GIF shall be saved\n",
    "dir_gif = \"C:\\\\Users\\\\josep\\\\OneDrive\\\\Documents\\\\Internship_RMI\\\\Hackathon_test_data\"\n",
    "# A list of the names of the GRIB import selection keys\n",
    "keys = ['Nx', 'Ny', 'latitudeOfFirstGridPointInDegrees', 'longitudeOfFirstGridPointInDegrees', 'earthIsOblate',\n",
    "        'LoVInDegrees', 'DxInMetres', 'DyInMetres', 'iScansNegatively', 'jScansPositively', 'Latin1InDegrees',\n",
    "        'Latin2InDegrees']\n",
    "# The projection string for the INCA data\n",
    "inca_projection_string = '+proj=lcc +lat_1=49.83333333333334 +lat_2=51.16666666666666 +lat_0=50.797815 +lon_0=4.359215833333333 +x_0=649328 +y_0=665262 +ellps=GRS80 +towgs84=0,0,0,0,0,0,0 +units=m +no_defs'\n",
    "# The projection string for the pySTEPS data\n",
    "nwc_projection_string =  '+proj=lcc +lat_1=49.83333333333334 +lat_2=51.16666666666666 +lat_0=50.797815 +lon_0=4.359215833333333 +x_0=649328 +y_0=665262 +ellps=GRS80 +towgs84=0,0,0,0,0,0,0 +units=m +no_defs'\n",
    "# The number of members to plot over time\n",
    "members = 2\n",
    "# The base length of time over which to plot\n",
    "timeBase = 60\n",
    "# The length of the time steps\n",
    "timeStep = 5"
   ],
   "id": "8c2971c2088af8e1",
   "outputs": [],
   "execution_count": 2
  },
  {
   "metadata": {
    "ExecuteTime": {
     "end_time": "2024-07-17T15:18:52.109986Z",
     "start_time": "2024-07-17T15:18:00.054367Z"
    }
   },
   "cell_type": "code",
   "source": "array_list = precipitation_type_calculator(filename, startdate, gribPath, topo, keys, inca_projection_string, nwc_projection_string, members, timeBase, timeStep, desired_output='mean')",
   "id": "d1aa0742aa315f4d",
   "outputs": [
    {
     "name": "stdout",
     "output_type": "stream",
     "text": [
      "INCA Snow level load done\n",
      "INCA temperature load done\n",
      "INCA Ground temperature load done\n",
      "Topography load done\n",
      "netCDF4 load done\n",
      "Re-projection done\n",
      "Interpolation done!\n",
      "Calculate precipitation type per member over time...\n",
      "Calculating precipitation types at:  2022-01-08 00:00:00\n",
      "Calculating precipitation types at:  2022-01-08 00:05:00\n",
      "Calculating precipitation types at:  2022-01-08 00:10:00\n",
      "Calculating precipitation types at:  2022-01-08 00:15:00\n",
      "Calculating precipitation types at:  2022-01-08 00:20:00\n",
      "Calculating precipitation types at:  2022-01-08 00:25:00\n",
      "Calculating precipitation types at:  2022-01-08 00:30:00\n",
      "Calculating precipitation types at:  2022-01-08 00:35:00\n",
      "Calculating precipitation types at:  2022-01-08 00:40:00\n",
      "Calculating precipitation types at:  2022-01-08 00:45:00\n",
      "Calculating precipitation types at:  2022-01-08 00:50:00\n",
      "Calculating precipitation types at:  2022-01-08 00:55:00\n",
      "Calculating precipitation types at:  2022-01-08 01:00:00\n",
      "Calculating precipitation types at:  2022-01-08 01:05:00\n",
      "Calculating precipitation types at:  2022-01-08 01:10:00\n",
      "Calculating precipitation types at:  2022-01-08 01:15:00\n",
      "Calculating precipitation types at:  2022-01-08 01:20:00\n",
      "Calculating precipitation types at:  2022-01-08 01:25:00\n",
      "Calculating precipitation types at:  2022-01-08 01:30:00\n",
      "Calculating precipitation types at:  2022-01-08 01:35:00\n",
      "Calculating precipitation types at:  2022-01-08 01:40:00\n",
      "Calculating precipitation types at:  2022-01-08 01:45:00\n",
      "Calculating precipitation types at:  2022-01-08 01:50:00\n",
      "Calculating precipitation types at:  2022-01-08 01:55:00\n",
      "Calculating precipitation types at:  2022-01-08 02:00:00\n",
      "Calculating precipitation types at:  2022-01-08 02:05:00\n",
      "Calculating precipitation types at:  2022-01-08 02:10:00\n",
      "Calculating precipitation types at:  2022-01-08 02:15:00\n",
      "Calculating precipitation types at:  2022-01-08 02:20:00\n",
      "Calculating precipitation types at:  2022-01-08 02:25:00\n",
      "Calculating precipitation types at:  2022-01-08 02:30:00\n",
      "Calculating precipitation types at:  2022-01-08 02:35:00\n",
      "Calculating precipitation types at:  2022-01-08 02:40:00\n",
      "Calculating precipitation types at:  2022-01-08 02:45:00\n",
      "Calculating precipitation types at:  2022-01-08 02:50:00\n",
      "Calculating precipitation types at:  2022-01-08 02:55:00\n",
      "Calculating precipitation types at:  2022-01-08 03:00:00\n",
      "Calculating precipitation types at:  2022-01-08 03:05:00\n",
      "Calculating precipitation types at:  2022-01-08 03:10:00\n",
      "Calculating precipitation types at:  2022-01-08 03:15:00\n",
      "Calculating precipitation types at:  2022-01-08 03:20:00\n",
      "Calculating precipitation types at:  2022-01-08 03:25:00\n",
      "Calculating precipitation types at:  2022-01-08 03:30:00\n",
      "Calculating precipitation types at:  2022-01-08 03:35:00\n",
      "Calculating precipitation types at:  2022-01-08 03:40:00\n",
      "Calculating precipitation types at:  2022-01-08 03:45:00\n",
      "Calculating precipitation types at:  2022-01-08 03:50:00\n",
      "Calculating precipitation types at:  2022-01-08 03:55:00\n",
      "Calculating precipitation types at:  2022-01-08 04:00:00\n",
      "Calculating precipitation types at:  2022-01-08 04:05:00\n",
      "Calculating precipitation types at:  2022-01-08 04:10:00\n",
      "Calculating precipitation types at:  2022-01-08 04:15:00\n",
      "Calculating precipitation types at:  2022-01-08 04:20:00\n",
      "Calculating precipitation types at:  2022-01-08 04:25:00\n",
      "Calculating precipitation types at:  2022-01-08 04:30:00\n",
      "Calculating precipitation types at:  2022-01-08 04:35:00\n",
      "Calculating precipitation types at:  2022-01-08 04:40:00\n",
      "Calculating precipitation types at:  2022-01-08 04:45:00\n",
      "Calculating precipitation types at:  2022-01-08 04:50:00\n",
      "Calculating precipitation types at:  2022-01-08 04:55:00\n",
      "Calculating precipitation types at:  2022-01-08 05:00:00\n",
      "Calculating precipitation types at:  2022-01-08 05:05:00\n",
      "Calculating precipitation types at:  2022-01-08 05:10:00\n",
      "Calculating precipitation types at:  2022-01-08 05:15:00\n",
      "Calculating precipitation types at:  2022-01-08 05:20:00\n",
      "Calculating precipitation types at:  2022-01-08 05:25:00\n",
      "Calculating precipitation types at:  2022-01-08 05:30:00\n",
      "Calculating precipitation types at:  2022-01-08 05:35:00\n",
      "Calculating precipitation types at:  2022-01-08 05:40:00\n",
      "Calculating precipitation types at:  2022-01-08 05:45:00\n",
      "Calculating precipitation types at:  2022-01-08 05:50:00\n",
      "Calculating precipitation types at:  2022-01-08 05:55:00\n",
      "Calculating precipitation types at:  2022-01-08 06:00:00\n",
      "--Script finished--\n",
      "--- 7.8084917068481445 seconds ---\n"
     ]
    }
   ],
   "execution_count": 3
  },
  {
   "metadata": {
    "ExecuteTime": {
     "end_time": "2024-07-17T15:19:26.646851Z",
     "start_time": "2024-07-17T15:19:26.639971Z"
    }
   },
   "cell_type": "code",
   "source": "print(array_list)",
   "id": "b222cc44f6652350",
   "outputs": [
    {
     "name": "stdout",
     "output_type": "stream",
     "text": [
      "[[[0. 0. 0. ... 0. 0. 0.]\n",
      "  [0. 0. 0. ... 0. 0. 0.]\n",
      "  [0. 0. 0. ... 0. 0. 0.]\n",
      "  ...\n",
      "  [0. 0. 0. ... 0. 0. 0.]\n",
      "  [0. 0. 0. ... 0. 0. 0.]\n",
      "  [0. 0. 0. ... 0. 0. 0.]]\n",
      "\n",
      " [[0. 0. 0. ... 0. 0. 0.]\n",
      "  [0. 0. 0. ... 0. 0. 0.]\n",
      "  [0. 0. 0. ... 0. 0. 0.]\n",
      "  ...\n",
      "  [0. 0. 0. ... 0. 0. 0.]\n",
      "  [0. 0. 0. ... 0. 0. 0.]\n",
      "  [0. 0. 0. ... 0. 0. 0.]]\n",
      "\n",
      " [[0. 0. 0. ... 0. 0. 0.]\n",
      "  [0. 0. 0. ... 0. 0. 0.]\n",
      "  [0. 0. 0. ... 0. 0. 0.]\n",
      "  ...\n",
      "  [0. 0. 0. ... 0. 0. 0.]\n",
      "  [0. 0. 0. ... 0. 0. 0.]\n",
      "  [0. 0. 0. ... 0. 0. 0.]]\n",
      "\n",
      " ...\n",
      "\n",
      " [[0. 0. 0. ... 3. 3. 3.]\n",
      "  [0. 0. 0. ... 3. 3. 3.]\n",
      "  [0. 0. 0. ... 3. 3. 3.]\n",
      "  ...\n",
      "  [0. 0. 0. ... 0. 0. 0.]\n",
      "  [0. 0. 0. ... 0. 0. 0.]\n",
      "  [0. 0. 0. ... 0. 0. 0.]]\n",
      "\n",
      " [[0. 0. 0. ... 3. 3. 3.]\n",
      "  [0. 0. 0. ... 3. 3. 3.]\n",
      "  [0. 0. 0. ... 3. 3. 3.]\n",
      "  ...\n",
      "  [0. 0. 0. ... 0. 0. 0.]\n",
      "  [0. 0. 0. ... 0. 0. 0.]\n",
      "  [0. 0. 0. ... 0. 0. 0.]]\n",
      "\n",
      " [[0. 0. 0. ... 0. 0. 3.]\n",
      "  [0. 0. 0. ... 0. 0. 3.]\n",
      "  [0. 0. 0. ... 3. 3. 3.]\n",
      "  ...\n",
      "  [0. 0. 0. ... 0. 0. 0.]\n",
      "  [0. 0. 0. ... 0. 0. 0.]\n",
      "  [0. 0. 0. ... 0. 0. 0.]]]\n"
     ]
    }
   ],
   "execution_count": 5
  }
 ],
 "metadata": {
  "kernelspec": {
   "display_name": "Python 3",
   "language": "python",
   "name": "python3"
  },
  "language_info": {
   "codemirror_mode": {
    "name": "ipython",
    "version": 2
   },
   "file_extension": ".py",
   "mimetype": "text/x-python",
   "name": "python",
   "nbconvert_exporter": "python",
   "pygments_lexer": "ipython2",
   "version": "2.7.6"
  }
 },
 "nbformat": 4,
 "nbformat_minor": 5
}
